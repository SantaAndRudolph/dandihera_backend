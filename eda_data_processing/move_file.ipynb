{
 "cells": [
  {
   "cell_type": "code",
   "execution_count": 1,
   "metadata": {},
   "outputs": [],
   "source": [
    "import shutil\n",
    "from tqdm import tqdm\n",
    "import pandas as pd\n",
    "import os"
   ]
  },
  {
   "attachments": {},
   "cell_type": "markdown",
   "metadata": {},
   "source": [
    "# 1. 데이터 로딩 및 폴더에 맞는 파일 이름 저장"
   ]
  },
  {
   "cell_type": "code",
   "execution_count": 2,
   "metadata": {},
   "outputs": [
    {
     "name": "stdout",
     "output_type": "stream",
     "text": [
      "13600\n"
     ]
    },
    {
     "data": {
      "text/html": [
       "<div>\n",
       "<style scoped>\n",
       "    .dataframe tbody tr th:only-of-type {\n",
       "        vertical-align: middle;\n",
       "    }\n",
       "\n",
       "    .dataframe tbody tr th {\n",
       "        vertical-align: top;\n",
       "    }\n",
       "\n",
       "    .dataframe thead th {\n",
       "        text-align: right;\n",
       "    }\n",
       "</style>\n",
       "<table border=\"1\" class=\"dataframe\">\n",
       "  <thead>\n",
       "    <tr style=\"text-align: right;\">\n",
       "      <th></th>\n",
       "      <th>code</th>\n",
       "      <th>name</th>\n",
       "      <th>type</th>\n",
       "      <th>pm별 위반 유형</th>\n",
       "      <th>PM</th>\n",
       "      <th>위반 유형</th>\n",
       "    </tr>\n",
       "  </thead>\n",
       "  <tbody>\n",
       "    <tr>\n",
       "      <th>0</th>\n",
       "      <td>14</td>\n",
       "      <td>C001164_022_0195_C_D_F_0.jpg</td>\n",
       "      <td>위반</td>\n",
       "      <td>오토바이 탑승자_보행자도로 통행 위반</td>\n",
       "      <td>오토바이</td>\n",
       "      <td>보행자도로 통행 위반</td>\n",
       "    </tr>\n",
       "    <tr>\n",
       "      <th>1</th>\n",
       "      <td>14</td>\n",
       "      <td>S000156_001_0192_C_N_F_0.jpg</td>\n",
       "      <td>위반</td>\n",
       "      <td>오토바이 탑승자_보행자도로 통행 위반</td>\n",
       "      <td>오토바이</td>\n",
       "      <td>보행자도로 통행 위반</td>\n",
       "    </tr>\n",
       "    <tr>\n",
       "      <th>2</th>\n",
       "      <td>14</td>\n",
       "      <td>C004034_000_0064_C_N_F_0.jpg</td>\n",
       "      <td>위반</td>\n",
       "      <td>오토바이 탑승자_보행자도로 통행 위반</td>\n",
       "      <td>오토바이</td>\n",
       "      <td>보행자도로 통행 위반</td>\n",
       "    </tr>\n",
       "    <tr>\n",
       "      <th>3</th>\n",
       "      <td>14</td>\n",
       "      <td>S000352_016_0308_C_D_F_0.jpg</td>\n",
       "      <td>위반</td>\n",
       "      <td>오토바이 탑승자_보행자도로 통행 위반</td>\n",
       "      <td>오토바이</td>\n",
       "      <td>보행자도로 통행 위반</td>\n",
       "    </tr>\n",
       "    <tr>\n",
       "      <th>4</th>\n",
       "      <td>14</td>\n",
       "      <td>F000067_000_1110_C_D_F_1.jpg</td>\n",
       "      <td>위반</td>\n",
       "      <td>오토바이 탑승자_보행자도로 통행 위반</td>\n",
       "      <td>오토바이</td>\n",
       "      <td>보행자도로 통행 위반</td>\n",
       "    </tr>\n",
       "  </tbody>\n",
       "</table>\n",
       "</div>"
      ],
      "text/plain": [
       "   code                          name type             pm별 위반 유형    PM   \n",
       "0    14  C001164_022_0195_C_D_F_0.jpg   위반  오토바이 탑승자_보행자도로 통행 위반  오토바이  \\\n",
       "1    14  S000156_001_0192_C_N_F_0.jpg   위반  오토바이 탑승자_보행자도로 통행 위반  오토바이   \n",
       "2    14  C004034_000_0064_C_N_F_0.jpg   위반  오토바이 탑승자_보행자도로 통행 위반  오토바이   \n",
       "3    14  S000352_016_0308_C_D_F_0.jpg   위반  오토바이 탑승자_보행자도로 통행 위반  오토바이   \n",
       "4    14  F000067_000_1110_C_D_F_1.jpg   위반  오토바이 탑승자_보행자도로 통행 위반  오토바이   \n",
       "\n",
       "         위반 유형  \n",
       "0  보행자도로 통행 위반  \n",
       "1  보행자도로 통행 위반  \n",
       "2  보행자도로 통행 위반  \n",
       "3  보행자도로 통행 위반  \n",
       "4  보행자도로 통행 위반  "
      ]
     },
     "execution_count": 2,
     "metadata": {},
     "output_type": "execute_result"
    }
   ],
   "source": [
    "df = pd.read_csv('sample.csv')\n",
    "print(len(df))\n",
    "df.head()"
   ]
  },
  {
   "cell_type": "code",
   "execution_count": 3,
   "metadata": {},
   "outputs": [
    {
     "data": {
      "text/html": [
       "<div>\n",
       "<style scoped>\n",
       "    .dataframe tbody tr th:only-of-type {\n",
       "        vertical-align: middle;\n",
       "    }\n",
       "\n",
       "    .dataframe tbody tr th {\n",
       "        vertical-align: top;\n",
       "    }\n",
       "\n",
       "    .dataframe thead th {\n",
       "        text-align: right;\n",
       "    }\n",
       "</style>\n",
       "<table border=\"1\" class=\"dataframe\">\n",
       "  <thead>\n",
       "    <tr style=\"text-align: right;\">\n",
       "      <th></th>\n",
       "      <th>code</th>\n",
       "      <th>name</th>\n",
       "      <th>type</th>\n",
       "      <th>pm별 위반 유형</th>\n",
       "      <th>PM</th>\n",
       "      <th>위반 유형</th>\n",
       "      <th>label_name</th>\n",
       "    </tr>\n",
       "  </thead>\n",
       "  <tbody>\n",
       "    <tr>\n",
       "      <th>0</th>\n",
       "      <td>14</td>\n",
       "      <td>C001164_022_0195_C_D_F_0.jpg</td>\n",
       "      <td>위반</td>\n",
       "      <td>오토바이 탑승자_보행자도로 통행 위반</td>\n",
       "      <td>오토바이</td>\n",
       "      <td>보행자도로 통행 위반</td>\n",
       "      <td>C001164_022_0195_C_D_F_0.json</td>\n",
       "    </tr>\n",
       "    <tr>\n",
       "      <th>1</th>\n",
       "      <td>14</td>\n",
       "      <td>S000156_001_0192_C_N_F_0.jpg</td>\n",
       "      <td>위반</td>\n",
       "      <td>오토바이 탑승자_보행자도로 통행 위반</td>\n",
       "      <td>오토바이</td>\n",
       "      <td>보행자도로 통행 위반</td>\n",
       "      <td>S000156_001_0192_C_N_F_0.json</td>\n",
       "    </tr>\n",
       "    <tr>\n",
       "      <th>2</th>\n",
       "      <td>14</td>\n",
       "      <td>C004034_000_0064_C_N_F_0.jpg</td>\n",
       "      <td>위반</td>\n",
       "      <td>오토바이 탑승자_보행자도로 통행 위반</td>\n",
       "      <td>오토바이</td>\n",
       "      <td>보행자도로 통행 위반</td>\n",
       "      <td>C004034_000_0064_C_N_F_0.json</td>\n",
       "    </tr>\n",
       "    <tr>\n",
       "      <th>3</th>\n",
       "      <td>14</td>\n",
       "      <td>S000352_016_0308_C_D_F_0.jpg</td>\n",
       "      <td>위반</td>\n",
       "      <td>오토바이 탑승자_보행자도로 통행 위반</td>\n",
       "      <td>오토바이</td>\n",
       "      <td>보행자도로 통행 위반</td>\n",
       "      <td>S000352_016_0308_C_D_F_0.json</td>\n",
       "    </tr>\n",
       "    <tr>\n",
       "      <th>4</th>\n",
       "      <td>14</td>\n",
       "      <td>F000067_000_1110_C_D_F_1.jpg</td>\n",
       "      <td>위반</td>\n",
       "      <td>오토바이 탑승자_보행자도로 통행 위반</td>\n",
       "      <td>오토바이</td>\n",
       "      <td>보행자도로 통행 위반</td>\n",
       "      <td>F000067_000_1110_C_D_F_1.json</td>\n",
       "    </tr>\n",
       "  </tbody>\n",
       "</table>\n",
       "</div>"
      ],
      "text/plain": [
       "   code                          name type             pm별 위반 유형    PM   \n",
       "0    14  C001164_022_0195_C_D_F_0.jpg   위반  오토바이 탑승자_보행자도로 통행 위반  오토바이  \\\n",
       "1    14  S000156_001_0192_C_N_F_0.jpg   위반  오토바이 탑승자_보행자도로 통행 위반  오토바이   \n",
       "2    14  C004034_000_0064_C_N_F_0.jpg   위반  오토바이 탑승자_보행자도로 통행 위반  오토바이   \n",
       "3    14  S000352_016_0308_C_D_F_0.jpg   위반  오토바이 탑승자_보행자도로 통행 위반  오토바이   \n",
       "4    14  F000067_000_1110_C_D_F_1.jpg   위반  오토바이 탑승자_보행자도로 통행 위반  오토바이   \n",
       "\n",
       "         위반 유형                     label_name  \n",
       "0  보행자도로 통행 위반  C001164_022_0195_C_D_F_0.json  \n",
       "1  보행자도로 통행 위반  S000156_001_0192_C_N_F_0.json  \n",
       "2  보행자도로 통행 위반  C004034_000_0064_C_N_F_0.json  \n",
       "3  보행자도로 통행 위반  S000352_016_0308_C_D_F_0.json  \n",
       "4  보행자도로 통행 위반  F000067_000_1110_C_D_F_1.json  "
      ]
     },
     "execution_count": 3,
     "metadata": {},
     "output_type": "execute_result"
    }
   ],
   "source": [
    " # 라벨 이름 생성\n",
    "df['label_name'] = df.name.apply(lambda x: x.replace('.jpg', '.json'))\n",
    "df.head()"
   ]
  },
  {
   "cell_type": "code",
   "execution_count": 4,
   "metadata": {},
   "outputs": [],
   "source": [
    "# 각 폴더에 해당하는 파일이름만 저장.\n",
    "bnf0 = df.loc[df.name.str.contains('B_N_F_0')].reset_index(drop=True)\n",
    "bnr0 = df.loc[df.name.str.contains('B_N_R_0')].reset_index(drop=True) # 0개\n",
    "bdf0 = df.loc[df.name.str.contains('B_D_F_0')].reset_index(drop=True)\n",
    "bdr0 = df.loc[df.name.str.contains('B_D_R_0')].reset_index(drop=True)\n",
    "bdf1 = df.loc[df.name.str.contains('B_D_F_1')].reset_index(drop=True)\n",
    "bdr1 = df.loc[df.name.str.contains('B_D_R_1')].reset_index(drop=True)\n",
    "cnf0 = df.loc[df.name.str.contains('C_N_F_0')].reset_index(drop=True)\n",
    "cnr0 = df.loc[df.name.str.contains('C_N_R_0')].reset_index(drop=True)\n",
    "cdf0 = df.loc[df.name.str.contains('C_D_F_0')].reset_index(drop=True)\n",
    "cdr0 = df.loc[df.name.str.contains('C_D_R_0')].reset_index(drop=True)\n",
    "cnf1 = df.loc[df.name.str.contains('C_N_F_1')].reset_index(drop=True)\n",
    "cnr1 = df.loc[df.name.str.contains('C_N_R_1')].reset_index(drop=True)\n",
    "cdf1 = df.loc[df.name.str.contains('C_D_F_1')].reset_index(drop=True)\n",
    "cdr1 = df.loc[df.name.str.contains('C_D_R_1')].reset_index(drop=True)"
   ]
  },
  {
   "cell_type": "code",
   "execution_count": 5,
   "metadata": {},
   "outputs": [
    {
     "data": {
      "text/plain": [
       "13600"
      ]
     },
     "execution_count": 5,
     "metadata": {},
     "output_type": "execute_result"
    }
   ],
   "source": [
    "len(bnf0) + len(bnr0) + len(bdf0) + len(bdr0) + len(bdf1) + len(bdr1) + \\\n",
    "    len(cnf0) + len(cnr0) + len(cdf0) + len(cdr0) + len(cnf1) + len(cnr1) + len(cdf1) + len(cdr1)"
   ]
  },
  {
   "cell_type": "code",
   "execution_count": 33,
   "metadata": {},
   "outputs": [
    {
     "data": {
      "text/html": [
       "<div>\n",
       "<style scoped>\n",
       "    .dataframe tbody tr th:only-of-type {\n",
       "        vertical-align: middle;\n",
       "    }\n",
       "\n",
       "    .dataframe tbody tr th {\n",
       "        vertical-align: top;\n",
       "    }\n",
       "\n",
       "    .dataframe thead th {\n",
       "        text-align: right;\n",
       "    }\n",
       "</style>\n",
       "<table border=\"1\" class=\"dataframe\">\n",
       "  <thead>\n",
       "    <tr style=\"text-align: right;\">\n",
       "      <th></th>\n",
       "      <th>code</th>\n",
       "      <th>name</th>\n",
       "      <th>type</th>\n",
       "      <th>pm별 위반 유형</th>\n",
       "      <th>PM</th>\n",
       "      <th>위반 유형</th>\n",
       "    </tr>\n",
       "  </thead>\n",
       "  <tbody>\n",
       "    <tr>\n",
       "      <th>985</th>\n",
       "      <td>14</td>\n",
       "      <td>T014534_019_0120_B_D_F_1.jpg</td>\n",
       "      <td>위반</td>\n",
       "      <td>오토바이 탑승자_보행자도로 통행 위반</td>\n",
       "      <td>오토바이</td>\n",
       "      <td>보행자도로 통행 위반</td>\n",
       "    </tr>\n",
       "    <tr>\n",
       "      <th>1182</th>\n",
       "      <td>22</td>\n",
       "      <td>T014525_016_0420_B_D_F_1.jpg</td>\n",
       "      <td>위반</td>\n",
       "      <td>자전거 탑승자_보행자도로 통행 위반</td>\n",
       "      <td>자전거</td>\n",
       "      <td>보행자도로 통행 위반</td>\n",
       "    </tr>\n",
       "    <tr>\n",
       "      <th>1270</th>\n",
       "      <td>22</td>\n",
       "      <td>T014422_036_0900_B_D_F_1.jpg</td>\n",
       "      <td>위반</td>\n",
       "      <td>자전거 탑승자_보행자도로 통행 위반</td>\n",
       "      <td>자전거</td>\n",
       "      <td>보행자도로 통행 위반</td>\n",
       "    </tr>\n",
       "    <tr>\n",
       "      <th>1278</th>\n",
       "      <td>22</td>\n",
       "      <td>T014416_000_0330_B_D_F_1.jpg</td>\n",
       "      <td>위반</td>\n",
       "      <td>자전거 탑승자_보행자도로 통행 위반</td>\n",
       "      <td>자전거</td>\n",
       "      <td>보행자도로 통행 위반</td>\n",
       "    </tr>\n",
       "    <tr>\n",
       "      <th>1680</th>\n",
       "      <td>22</td>\n",
       "      <td>T014301_009_0390_B_D_F_1.jpg</td>\n",
       "      <td>위반</td>\n",
       "      <td>자전거 탑승자_보행자도로 통행 위반</td>\n",
       "      <td>자전거</td>\n",
       "      <td>보행자도로 통행 위반</td>\n",
       "    </tr>\n",
       "    <tr>\n",
       "      <th>...</th>\n",
       "      <td>...</td>\n",
       "      <td>...</td>\n",
       "      <td>...</td>\n",
       "      <td>...</td>\n",
       "      <td>...</td>\n",
       "      <td>...</td>\n",
       "    </tr>\n",
       "    <tr>\n",
       "      <th>13591</th>\n",
       "      <td>28</td>\n",
       "      <td>T015219_017_0030_B_D_F_1.jpg</td>\n",
       "      <td>정상</td>\n",
       "      <td>킥보드 탑승자</td>\n",
       "      <td>킥보드</td>\n",
       "      <td>정상</td>\n",
       "    </tr>\n",
       "    <tr>\n",
       "      <th>13594</th>\n",
       "      <td>28</td>\n",
       "      <td>T014425_016_0810_B_D_F_1.jpg</td>\n",
       "      <td>정상</td>\n",
       "      <td>킥보드 탑승자</td>\n",
       "      <td>킥보드</td>\n",
       "      <td>정상</td>\n",
       "    </tr>\n",
       "    <tr>\n",
       "      <th>13595</th>\n",
       "      <td>28</td>\n",
       "      <td>T014419_013_0066_B_D_F_1.jpg</td>\n",
       "      <td>정상</td>\n",
       "      <td>킥보드 탑승자</td>\n",
       "      <td>킥보드</td>\n",
       "      <td>정상</td>\n",
       "    </tr>\n",
       "    <tr>\n",
       "      <th>13597</th>\n",
       "      <td>28</td>\n",
       "      <td>T014411_004_0308_B_D_F_1.jpg</td>\n",
       "      <td>정상</td>\n",
       "      <td>킥보드 탑승자</td>\n",
       "      <td>킥보드</td>\n",
       "      <td>정상</td>\n",
       "    </tr>\n",
       "    <tr>\n",
       "      <th>13599</th>\n",
       "      <td>28</td>\n",
       "      <td>T014398_096_0110_B_D_F_1.jpg</td>\n",
       "      <td>정상</td>\n",
       "      <td>킥보드 탑승자</td>\n",
       "      <td>킥보드</td>\n",
       "      <td>정상</td>\n",
       "    </tr>\n",
       "  </tbody>\n",
       "</table>\n",
       "<p>610 rows × 6 columns</p>\n",
       "</div>"
      ],
      "text/plain": [
       "       code                          name type             pm별 위반 유형    PM   \n",
       "985      14  T014534_019_0120_B_D_F_1.jpg   위반  오토바이 탑승자_보행자도로 통행 위반  오토바이  \\\n",
       "1182     22  T014525_016_0420_B_D_F_1.jpg   위반   자전거 탑승자_보행자도로 통행 위반   자전거   \n",
       "1270     22  T014422_036_0900_B_D_F_1.jpg   위반   자전거 탑승자_보행자도로 통행 위반   자전거   \n",
       "1278     22  T014416_000_0330_B_D_F_1.jpg   위반   자전거 탑승자_보행자도로 통행 위반   자전거   \n",
       "1680     22  T014301_009_0390_B_D_F_1.jpg   위반   자전거 탑승자_보행자도로 통행 위반   자전거   \n",
       "...     ...                           ...  ...                   ...   ...   \n",
       "13591    28  T015219_017_0030_B_D_F_1.jpg   정상               킥보드 탑승자   킥보드   \n",
       "13594    28  T014425_016_0810_B_D_F_1.jpg   정상               킥보드 탑승자   킥보드   \n",
       "13595    28  T014419_013_0066_B_D_F_1.jpg   정상               킥보드 탑승자   킥보드   \n",
       "13597    28  T014411_004_0308_B_D_F_1.jpg   정상               킥보드 탑승자   킥보드   \n",
       "13599    28  T014398_096_0110_B_D_F_1.jpg   정상               킥보드 탑승자   킥보드   \n",
       "\n",
       "             위반 유형  \n",
       "985    보행자도로 통행 위반  \n",
       "1182   보행자도로 통행 위반  \n",
       "1270   보행자도로 통행 위반  \n",
       "1278   보행자도로 통행 위반  \n",
       "1680   보행자도로 통행 위반  \n",
       "...            ...  \n",
       "13591           정상  \n",
       "13594           정상  \n",
       "13595           정상  \n",
       "13597           정상  \n",
       "13599           정상  \n",
       "\n",
       "[610 rows x 6 columns]"
      ]
     },
     "execution_count": 33,
     "metadata": {},
     "output_type": "execute_result"
    }
   ],
   "source": [
    "# name_list = ['B_N_F_0', 'B_N_R_0', 'B_D_F_0', 'B_D_R_0', 'C_N_F_0', \n",
    "#              'C_N_R_0', 'C_D_F_0', 'C_D_R_0', 'C_N_F_1', 'C_N_R_1', 'C_D_F_1', 'C_D_R_1']\n",
    "# cont = '|'.join(name_list)\n",
    "# df[~df['name'].str.contains(cont)]"
   ]
  },
  {
   "attachments": {},
   "cell_type": "markdown",
   "metadata": {},
   "source": [
    "# 2. 이미지 파일 이동"
   ]
  },
  {
   "cell_type": "code",
   "execution_count": 7,
   "metadata": {},
   "outputs": [],
   "source": [
    "abs_path = '...'"
   ]
  },
  {
   "cell_type": "code",
   "execution_count": 89,
   "metadata": {},
   "outputs": [],
   "source": [
    "# 이미지 파일이면 sample에, 라벨링 파일이면 sample_label 폴더에 저장.\n",
    "def move_file(file_path, name_list, label = False):\n",
    "    if label == False:\n",
    "        for file_name in tqdm(name_list['name']):\n",
    "            shutil.copy(abs_path + file_path + file_name,\n",
    "                        abs_path + 'data/sample')\n",
    "    else:\n",
    "        for file_name in tqdm(name_list['label_name']):\n",
    "            shutil.copy(abs_path + file_path + file_name,\n",
    "                        abs_path + 'data/sample_label')"
   ]
  },
  {
   "cell_type": "code",
   "execution_count": 61,
   "metadata": {},
   "outputs": [],
   "source": [
    "bnf0_path = 'data/input/블랙박스/야간/맑음/실증/'\n",
    "bdf0_path = 'data/input/블랙박스/주간/맑음/실증/'\n",
    "bdr0_path = 'data/input/블랙박스/주간/우천/실증/'\n",
    "bdf1_path = 'data/input/블랙박스/주간/맑음/연출/'\n",
    "bdr1_path = 'data/input/블랙박스/주간/우천/연출/'\n",
    "cnf0_path = 'data/input/CCTV/야간/맑음/실증/'\n",
    "cnr0_path = 'data/input/CCTV/야간/우천/실증/'\n",
    "cdf0_path = 'data/input/CCTV/주간/맑음/실증/'\n",
    "cdr0_path = 'data/input/CCTV/주간/우천/실증/'\n",
    "cnf1_path = 'data/input/CCTV/야간/맑음/연출/'\n",
    "cnr1_path = 'data/input/CCTV/야간/우천/연출/'\n",
    "cdf1_path = 'data/input/CCTV/주간/맑음/연출/'\n",
    "cdr1_path = 'data/input/CCTV/주간/우천/연출/'\n"
   ]
  },
  {
   "cell_type": "code",
   "execution_count": 63,
   "metadata": {},
   "outputs": [
    {
     "name": "stderr",
     "output_type": "stream",
     "text": [
      "100%|██████████| 4/4 [00:00<00:00, 308.22it/s]\n"
     ]
    }
   ],
   "source": [
    "move_file(bnf0_path, bnf0)"
   ]
  },
  {
   "cell_type": "code",
   "execution_count": 62,
   "metadata": {},
   "outputs": [
    {
     "name": "stderr",
     "output_type": "stream",
     "text": [
      "100%|██████████| 52/52 [00:00<00:00, 207.81it/s]\n"
     ]
    }
   ],
   "source": [
    "move_file(bdf0_path, bdf0)"
   ]
  },
  {
   "cell_type": "code",
   "execution_count": 64,
   "metadata": {},
   "outputs": [
    {
     "name": "stderr",
     "output_type": "stream",
     "text": [
      "100%|██████████| 8/8 [00:00<00:00, 244.02it/s]\n"
     ]
    }
   ],
   "source": [
    "move_file(bdr0_path, bdr0)"
   ]
  },
  {
   "cell_type": "code",
   "execution_count": 65,
   "metadata": {},
   "outputs": [
    {
     "name": "stderr",
     "output_type": "stream",
     "text": [
      "100%|██████████| 598/598 [00:01<00:00, 352.41it/s]\n"
     ]
    }
   ],
   "source": [
    "move_file(bdf1_path, bdf1)"
   ]
  },
  {
   "cell_type": "code",
   "execution_count": 66,
   "metadata": {},
   "outputs": [
    {
     "name": "stderr",
     "output_type": "stream",
     "text": [
      "100%|██████████| 12/12 [00:00<00:00, 122.50it/s]\n"
     ]
    }
   ],
   "source": [
    "move_file(bdr1_path, bdr1)"
   ]
  },
  {
   "cell_type": "code",
   "execution_count": 67,
   "metadata": {},
   "outputs": [
    {
     "name": "stderr",
     "output_type": "stream",
     "text": [
      "100%|██████████| 1383/1383 [00:03<00:00, 351.27it/s]\n"
     ]
    }
   ],
   "source": [
    "move_file(cnf0_path, cnf0)"
   ]
  },
  {
   "cell_type": "code",
   "execution_count": 68,
   "metadata": {},
   "outputs": [
    {
     "name": "stderr",
     "output_type": "stream",
     "text": [
      "100%|██████████| 38/38 [00:00<00:00, 309.52it/s]\n"
     ]
    }
   ],
   "source": [
    "move_file(cnr0_path, cnr0)"
   ]
  },
  {
   "cell_type": "code",
   "execution_count": 69,
   "metadata": {},
   "outputs": [
    {
     "name": "stderr",
     "output_type": "stream",
     "text": [
      "100%|██████████| 6208/6208 [00:19<00:00, 325.75it/s]\n"
     ]
    }
   ],
   "source": [
    "move_file(cdf0_path, cdf0)"
   ]
  },
  {
   "cell_type": "code",
   "execution_count": 70,
   "metadata": {},
   "outputs": [
    {
     "name": "stderr",
     "output_type": "stream",
     "text": [
      "100%|██████████| 303/303 [00:00<00:00, 367.87it/s]\n"
     ]
    }
   ],
   "source": [
    "move_file(cdr0_path, cdr0)"
   ]
  },
  {
   "cell_type": "code",
   "execution_count": 71,
   "metadata": {},
   "outputs": [
    {
     "name": "stderr",
     "output_type": "stream",
     "text": [
      "100%|██████████| 13/13 [00:00<00:00, 133.31it/s]\n"
     ]
    }
   ],
   "source": [
    "move_file(cnf1_path, cnf1)"
   ]
  },
  {
   "cell_type": "code",
   "execution_count": 72,
   "metadata": {},
   "outputs": [
    {
     "name": "stderr",
     "output_type": "stream",
     "text": [
      "100%|██████████| 2/2 [00:00<00:00, 231.13it/s]\n"
     ]
    }
   ],
   "source": [
    "move_file(cnr1_path, cnr1)"
   ]
  },
  {
   "cell_type": "code",
   "execution_count": 73,
   "metadata": {},
   "outputs": [
    {
     "name": "stderr",
     "output_type": "stream",
     "text": [
      "100%|██████████| 4889/4889 [00:16<00:00, 301.55it/s]\n"
     ]
    }
   ],
   "source": [
    "move_file(cdf1_path, cdf1)"
   ]
  },
  {
   "cell_type": "code",
   "execution_count": 74,
   "metadata": {},
   "outputs": [
    {
     "name": "stderr",
     "output_type": "stream",
     "text": [
      "100%|██████████| 90/90 [00:00<00:00, 175.62it/s]\n"
     ]
    }
   ],
   "source": [
    "move_file(cdr1_path, cdr1)"
   ]
  },
  {
   "cell_type": "code",
   "execution_count": 8,
   "metadata": {},
   "outputs": [
    {
     "data": {
      "text/plain": [
       "13324"
      ]
     },
     "execution_count": 8,
     "metadata": {},
     "output_type": "execute_result"
    }
   ],
   "source": [
    "sample = os.listdir(abs_path + 'data/sample')\n",
    "len(sample) # 이미지 파일이 불러와지지 않는 경우도 있음. 약 200개 정도 누락됐는데 큰 문제 없음\n",
    "# 실제 이미지 갯수는 13323갠데 DS_Store 파일이 포함되어 있어서 13324로 나옴."
   ]
  },
  {
   "attachments": {},
   "cell_type": "markdown",
   "metadata": {},
   "source": [
    "# 3. 라벨 파일 이동"
   ]
  },
  {
   "cell_type": "code",
   "execution_count": 80,
   "metadata": {},
   "outputs": [],
   "source": [
    "bnf0_label = 'data/label/블랙박스/야간/맑음/실증/'\n",
    "bdf0_label = 'data/label/블랙박스/주간/맑음/실증/'\n",
    "bdr0_label = 'data/label/블랙박스/주간/우천/실증/'\n",
    "bdf1_label = 'data/label/블랙박스/주간/맑음/연출/'\n",
    "bdr1_label = 'data/label/블랙박스/주간/우천/연출/'\n",
    "cnf0_label = 'data/label/CCTV/야간/맑음/실증/'\n",
    "cnr0_label = 'data/label/CCTV/야간/우천/실증/'\n",
    "cdf0_label = 'data/label/CCTV/주간/맑음/실증/'\n",
    "cdr0_label = 'data/label/CCTV/주간/우천/실증/'\n",
    "cnf1_label = 'data/label/CCTV/야간/맑음/연출/'\n",
    "cnr1_label = 'data/label/CCTV/야간/우천/연출/'\n",
    "cdf1_label = 'data/label/CCTV/주간/맑음/연출/'\n",
    "cdr1_label = 'data/label/CCTV/주간/우천/연출/'"
   ]
  },
  {
   "cell_type": "code",
   "execution_count": 82,
   "metadata": {},
   "outputs": [
    {
     "data": {
      "text/plain": [
       "'F000011_002_6280_C_D_F_1.json'"
      ]
     },
     "execution_count": 82,
     "metadata": {},
     "output_type": "execute_result"
    }
   ],
   "source": [
    "sample_lab = [x.replace('.jpg', '.json') for x in sample]\n",
    "sample_lab[0]"
   ]
  },
  {
   "cell_type": "code",
   "execution_count": 91,
   "metadata": {},
   "outputs": [
    {
     "name": "stderr",
     "output_type": "stream",
     "text": [
      "100%|██████████| 4/4 [00:00<00:00, 366.36it/s]\n"
     ]
    }
   ],
   "source": [
    "move_file(bnf0_label, bnf0, True)"
   ]
  },
  {
   "cell_type": "code",
   "execution_count": 96,
   "metadata": {},
   "outputs": [
    {
     "name": "stderr",
     "output_type": "stream",
     "text": [
      "100%|██████████| 52/52 [00:00<00:00, 189.77it/s]\n"
     ]
    }
   ],
   "source": [
    "move_file(bdf0_label, bdf0, True)"
   ]
  },
  {
   "cell_type": "code",
   "execution_count": 97,
   "metadata": {},
   "outputs": [
    {
     "name": "stderr",
     "output_type": "stream",
     "text": [
      "100%|██████████| 8/8 [00:00<00:00, 287.58it/s]\n"
     ]
    }
   ],
   "source": [
    "move_file(bdr0_label, bdr0, True)"
   ]
  },
  {
   "cell_type": "code",
   "execution_count": 98,
   "metadata": {},
   "outputs": [
    {
     "name": "stderr",
     "output_type": "stream",
     "text": [
      "100%|██████████| 598/598 [00:01<00:00, 489.20it/s]\n"
     ]
    }
   ],
   "source": [
    "move_file(bdf1_label, bdf1, True)"
   ]
  },
  {
   "cell_type": "code",
   "execution_count": 99,
   "metadata": {},
   "outputs": [
    {
     "name": "stderr",
     "output_type": "stream",
     "text": [
      "100%|██████████| 12/12 [00:00<00:00, 101.53it/s]\n"
     ]
    }
   ],
   "source": [
    "move_file(bdr1_label, bdr1, True)"
   ]
  },
  {
   "cell_type": "code",
   "execution_count": 100,
   "metadata": {},
   "outputs": [
    {
     "name": "stderr",
     "output_type": "stream",
     "text": [
      "100%|██████████| 1383/1383 [00:02<00:00, 470.96it/s]\n"
     ]
    }
   ],
   "source": [
    "move_file(cnf0_label, cnf0, True)"
   ]
  },
  {
   "cell_type": "code",
   "execution_count": 101,
   "metadata": {},
   "outputs": [
    {
     "name": "stderr",
     "output_type": "stream",
     "text": [
      "100%|██████████| 38/38 [00:00<00:00, 355.40it/s]\n"
     ]
    }
   ],
   "source": [
    "move_file(cnr0_label, cnr0, True)"
   ]
  },
  {
   "cell_type": "code",
   "execution_count": 102,
   "metadata": {},
   "outputs": [
    {
     "name": "stderr",
     "output_type": "stream",
     "text": [
      "100%|██████████| 6208/6208 [00:14<00:00, 433.65it/s]\n"
     ]
    }
   ],
   "source": [
    "move_file(cdf0_label, cdf0, True)"
   ]
  },
  {
   "cell_type": "code",
   "execution_count": 103,
   "metadata": {},
   "outputs": [
    {
     "name": "stderr",
     "output_type": "stream",
     "text": [
      "100%|██████████| 303/303 [00:00<00:00, 509.20it/s]\n"
     ]
    }
   ],
   "source": [
    "move_file(cdr0_label, cdr0, True)"
   ]
  },
  {
   "cell_type": "code",
   "execution_count": 104,
   "metadata": {},
   "outputs": [
    {
     "name": "stderr",
     "output_type": "stream",
     "text": [
      "100%|██████████| 13/13 [00:00<00:00, 350.23it/s]\n"
     ]
    }
   ],
   "source": [
    "move_file(cnf1_label, cnf1, True)"
   ]
  },
  {
   "cell_type": "code",
   "execution_count": 105,
   "metadata": {},
   "outputs": [
    {
     "name": "stderr",
     "output_type": "stream",
     "text": [
      "100%|██████████| 2/2 [00:00<00:00, 242.60it/s]\n"
     ]
    }
   ],
   "source": [
    "move_file(cnr1_label, cnr1, True)"
   ]
  },
  {
   "cell_type": "code",
   "execution_count": 106,
   "metadata": {},
   "outputs": [
    {
     "name": "stderr",
     "output_type": "stream",
     "text": [
      "100%|██████████| 4889/4889 [00:11<00:00, 413.88it/s]\n"
     ]
    }
   ],
   "source": [
    "move_file(cdf1_label, cdf1, True)"
   ]
  },
  {
   "cell_type": "code",
   "execution_count": 107,
   "metadata": {},
   "outputs": [
    {
     "name": "stderr",
     "output_type": "stream",
     "text": [
      "100%|██████████| 90/90 [00:00<00:00, 352.31it/s]\n"
     ]
    }
   ],
   "source": [
    "move_file(cdr1_label, cdr1, True)"
   ]
  },
  {
   "cell_type": "code",
   "execution_count": 9,
   "metadata": {},
   "outputs": [
    {
     "data": {
      "text/plain": [
       "13323"
      ]
     },
     "execution_count": 9,
     "metadata": {},
     "output_type": "execute_result"
    }
   ],
   "source": [
    "label = os.listdir(abs_path + 'data/sample_label')\n",
    "len(label)"
   ]
  },
  {
   "cell_type": "code",
   "execution_count": 23,
   "metadata": {},
   "outputs": [
    {
     "name": "stdout",
     "output_type": "stream",
     "text": [
      ".DS_Store\n",
      "0\n"
     ]
    }
   ],
   "source": [
    "for i in sample:\n",
    "    if 'jpg' not in i:\n",
    "        print(i)"
   ]
  },
  {
   "cell_type": "code",
   "execution_count": 26,
   "metadata": {},
   "outputs": [
    {
     "data": {
      "text/plain": [
       "1980"
      ]
     },
     "execution_count": 26,
     "metadata": {},
     "output_type": "execute_result"
    }
   ],
   "source": [
    "sample.index('.DS_Store')"
   ]
  },
  {
   "cell_type": "code",
   "execution_count": 27,
   "metadata": {},
   "outputs": [
    {
     "data": {
      "text/plain": [
       "13323"
      ]
     },
     "execution_count": 27,
     "metadata": {},
     "output_type": "execute_result"
    }
   ],
   "source": [
    "sample.remove('.DS_Store')\n",
    "len(sample)"
   ]
  },
  {
   "cell_type": "code",
   "execution_count": 29,
   "metadata": {},
   "outputs": [
    {
     "name": "stdout",
     "output_type": "stream",
     "text": [
      "['eda.ipynb', 'make_yolo_label_file.ipynb', '.DS_Store', 'mobility.yaml', 'yolov5_label', 'sample.csv', 'yolov5', 'train.py', 'move_file.ipynb', 'data']\n",
      "10\n"
     ]
    }
   ],
   "source": [
    "test = os.listdir(abs_path)\n",
    "print(test)\n",
    "print(len(test)) # DS 파일이 실제로는 안 보이는데 listdir함수 쓰면 나옴. 신경 X"
   ]
  },
  {
   "cell_type": "code",
   "execution_count": 42,
   "metadata": {},
   "outputs": [
    {
     "data": {
      "text/html": [
       "<div>\n",
       "<style scoped>\n",
       "    .dataframe tbody tr th:only-of-type {\n",
       "        vertical-align: middle;\n",
       "    }\n",
       "\n",
       "    .dataframe tbody tr th {\n",
       "        vertical-align: top;\n",
       "    }\n",
       "\n",
       "    .dataframe thead th {\n",
       "        text-align: right;\n",
       "    }\n",
       "</style>\n",
       "<table border=\"1\" class=\"dataframe\">\n",
       "  <thead>\n",
       "    <tr style=\"text-align: right;\">\n",
       "      <th></th>\n",
       "      <th>file_name</th>\n",
       "    </tr>\n",
       "  </thead>\n",
       "  <tbody>\n",
       "    <tr>\n",
       "      <th>0</th>\n",
       "      <td>F000011_002_6280_C_D_F_1.jpg</td>\n",
       "    </tr>\n",
       "    <tr>\n",
       "      <th>1</th>\n",
       "      <td>T015342_002_0153_C_D_F_1.jpg</td>\n",
       "    </tr>\n",
       "    <tr>\n",
       "      <th>2</th>\n",
       "      <td>S000403_027_0192_C_D_F_0.jpg</td>\n",
       "    </tr>\n",
       "    <tr>\n",
       "      <th>3</th>\n",
       "      <td>T004936_031_0056_C_D_F_0.jpg</td>\n",
       "    </tr>\n",
       "    <tr>\n",
       "      <th>4</th>\n",
       "      <td>S000232_005_0072_C_D_F_0.jpg</td>\n",
       "    </tr>\n",
       "  </tbody>\n",
       "</table>\n",
       "</div>"
      ],
      "text/plain": [
       "                      file_name\n",
       "0  F000011_002_6280_C_D_F_1.jpg\n",
       "1  T015342_002_0153_C_D_F_1.jpg\n",
       "2  S000403_027_0192_C_D_F_0.jpg\n",
       "3  T004936_031_0056_C_D_F_0.jpg\n",
       "4  S000232_005_0072_C_D_F_0.jpg"
      ]
     },
     "metadata": {},
     "output_type": "display_data"
    },
    {
     "name": "stdout",
     "output_type": "stream",
     "text": [
      "13323\n"
     ]
    }
   ],
   "source": [
    "# 실제 사용할 13,324 파일들만 추출\n",
    "df_sample1 = pd.DataFrame(sample, columns = ['file_name'])\n",
    "display(df_sample1.head())\n",
    "print(len(df_sample1))"
   ]
  },
  {
   "cell_type": "code",
   "execution_count": 40,
   "metadata": {},
   "outputs": [
    {
     "data": {
      "text/plain": [
       "0    F000011_002_6280_C_D_F_1.jpg\n",
       "1    T015342_002_0153_C_D_F_1.jpg\n",
       "2    S000403_027_0192_C_D_F_0.jpg\n",
       "3    T004936_031_0056_C_D_F_0.jpg\n",
       "4    S000232_005_0072_C_D_F_0.jpg\n",
       "Name: file_name, dtype: object"
      ]
     },
     "execution_count": 40,
     "metadata": {},
     "output_type": "execute_result"
    }
   ],
   "source": [
    "df_sample1.file_name.head()"
   ]
  },
  {
   "cell_type": "code",
   "execution_count": 49,
   "metadata": {},
   "outputs": [
    {
     "data": {
      "text/plain": [
       "277"
      ]
     },
     "execution_count": 49,
     "metadata": {},
     "output_type": "execute_result"
    }
   ],
   "source": [
    "df.name.duplicated().sum()"
   ]
  },
  {
   "cell_type": "code",
   "execution_count": 48,
   "metadata": {},
   "outputs": [
    {
     "name": "stdout",
     "output_type": "stream",
     "text": [
      "13323\n"
     ]
    },
    {
     "data": {
      "text/html": [
       "<div>\n",
       "<style scoped>\n",
       "    .dataframe tbody tr th:only-of-type {\n",
       "        vertical-align: middle;\n",
       "    }\n",
       "\n",
       "    .dataframe tbody tr th {\n",
       "        vertical-align: top;\n",
       "    }\n",
       "\n",
       "    .dataframe thead th {\n",
       "        text-align: right;\n",
       "    }\n",
       "</style>\n",
       "<table border=\"1\" class=\"dataframe\">\n",
       "  <thead>\n",
       "    <tr style=\"text-align: right;\">\n",
       "      <th></th>\n",
       "      <th>code</th>\n",
       "      <th>name</th>\n",
       "      <th>type</th>\n",
       "      <th>pm별 위반 유형</th>\n",
       "      <th>PM</th>\n",
       "      <th>위반 유형</th>\n",
       "      <th>label_name</th>\n",
       "    </tr>\n",
       "  </thead>\n",
       "  <tbody>\n",
       "    <tr>\n",
       "      <th>0</th>\n",
       "      <td>14</td>\n",
       "      <td>C001164_022_0195_C_D_F_0.jpg</td>\n",
       "      <td>위반</td>\n",
       "      <td>오토바이 탑승자_보행자도로 통행 위반</td>\n",
       "      <td>오토바이</td>\n",
       "      <td>보행자도로 통행 위반</td>\n",
       "      <td>C001164_022_0195_C_D_F_0.json</td>\n",
       "    </tr>\n",
       "    <tr>\n",
       "      <th>1</th>\n",
       "      <td>14</td>\n",
       "      <td>S000156_001_0192_C_N_F_0.jpg</td>\n",
       "      <td>위반</td>\n",
       "      <td>오토바이 탑승자_보행자도로 통행 위반</td>\n",
       "      <td>오토바이</td>\n",
       "      <td>보행자도로 통행 위반</td>\n",
       "      <td>S000156_001_0192_C_N_F_0.json</td>\n",
       "    </tr>\n",
       "    <tr>\n",
       "      <th>2</th>\n",
       "      <td>14</td>\n",
       "      <td>C004034_000_0064_C_N_F_0.jpg</td>\n",
       "      <td>위반</td>\n",
       "      <td>오토바이 탑승자_보행자도로 통행 위반</td>\n",
       "      <td>오토바이</td>\n",
       "      <td>보행자도로 통행 위반</td>\n",
       "      <td>C004034_000_0064_C_N_F_0.json</td>\n",
       "    </tr>\n",
       "    <tr>\n",
       "      <th>3</th>\n",
       "      <td>14</td>\n",
       "      <td>S000352_016_0308_C_D_F_0.jpg</td>\n",
       "      <td>위반</td>\n",
       "      <td>오토바이 탑승자_보행자도로 통행 위반</td>\n",
       "      <td>오토바이</td>\n",
       "      <td>보행자도로 통행 위반</td>\n",
       "      <td>S000352_016_0308_C_D_F_0.json</td>\n",
       "    </tr>\n",
       "    <tr>\n",
       "      <th>4</th>\n",
       "      <td>14</td>\n",
       "      <td>F000067_000_1110_C_D_F_1.jpg</td>\n",
       "      <td>위반</td>\n",
       "      <td>오토바이 탑승자_보행자도로 통행 위반</td>\n",
       "      <td>오토바이</td>\n",
       "      <td>보행자도로 통행 위반</td>\n",
       "      <td>F000067_000_1110_C_D_F_1.json</td>\n",
       "    </tr>\n",
       "  </tbody>\n",
       "</table>\n",
       "</div>"
      ],
      "text/plain": [
       "   code                          name type             pm별 위반 유형    PM   \n",
       "0    14  C001164_022_0195_C_D_F_0.jpg   위반  오토바이 탑승자_보행자도로 통행 위반  오토바이  \\\n",
       "1    14  S000156_001_0192_C_N_F_0.jpg   위반  오토바이 탑승자_보행자도로 통행 위반  오토바이   \n",
       "2    14  C004034_000_0064_C_N_F_0.jpg   위반  오토바이 탑승자_보행자도로 통행 위반  오토바이   \n",
       "3    14  S000352_016_0308_C_D_F_0.jpg   위반  오토바이 탑승자_보행자도로 통행 위반  오토바이   \n",
       "4    14  F000067_000_1110_C_D_F_1.jpg   위반  오토바이 탑승자_보행자도로 통행 위반  오토바이   \n",
       "\n",
       "         위반 유형                     label_name  \n",
       "0  보행자도로 통행 위반  C001164_022_0195_C_D_F_0.json  \n",
       "1  보행자도로 통행 위반  S000156_001_0192_C_N_F_0.json  \n",
       "2  보행자도로 통행 위반  C004034_000_0064_C_N_F_0.json  \n",
       "3  보행자도로 통행 위반  S000352_016_0308_C_D_F_0.json  \n",
       "4  보행자도로 통행 위반  F000067_000_1110_C_D_F_1.json  "
      ]
     },
     "metadata": {},
     "output_type": "display_data"
    },
    {
     "name": "stdout",
     "output_type": "stream",
     "text": [
      "13323\n"
     ]
    }
   ],
   "source": [
    "df2 = df.drop_duplicates()\n",
    "print(len(df2))\n",
    "df_sample = df2.loc[df2.name.isin(df_sample1.file_name)]\n",
    "display(df_sample.head())\n",
    "print(len(df_sample))"
   ]
  },
  {
   "cell_type": "code",
   "execution_count": 50,
   "metadata": {},
   "outputs": [],
   "source": [
    "df_sample.to_csv('sample_file_name.csv', index = False)"
   ]
  }
 ],
 "metadata": {
  "kernelspec": {
   "display_name": "mobility",
   "language": "python",
   "name": "python3"
  },
  "language_info": {
   "codemirror_mode": {
    "name": "ipython",
    "version": 3
   },
   "file_extension": ".py",
   "mimetype": "text/x-python",
   "name": "python",
   "nbconvert_exporter": "python",
   "pygments_lexer": "ipython3",
   "version": "3.8.0"
  },
  "orig_nbformat": 4
 },
 "nbformat": 4,
 "nbformat_minor": 2
}
