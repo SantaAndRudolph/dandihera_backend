{
 "cells": [
  {
   "cell_type": "code",
   "execution_count": 1,
   "metadata": {},
   "outputs": [],
   "source": [
    "# 이미지 사이즈 조정\n",
    "import cv2\n",
    "import os\n",
    "import json\n",
    "from tqdm import tqdm\n",
    "import matplotlib.pyplot as plt\n",
    "import shutil"
   ]
  },
  {
   "cell_type": "code",
   "execution_count": 18,
   "metadata": {},
   "outputs": [
    {
     "name": "stderr",
     "output_type": "stream",
     "text": [
      "100%|██████████| 10659/10659 [06:04<00:00, 29.26it/s]\n"
     ]
    }
   ],
   "source": [
    "# 컬러이미지를 회색조 이미지로 변환하여 다시 저장\n",
    "def make_gray_images(directory):\n",
    "    filelist = os.listdir(directory)\n",
    "    for filename in tqdm(filelist):\n",
    "        if filename.endswith(\".jpg\") or filename.endswith(\".png\"):  # 원하는 확장자로 변경\n",
    "            file_path = os.path.join(directory, filename)\n",
    "            img = cv2.imread(file_path, cv2.IMREAD_GRAYSCALE)\n",
    "            filename = filename.split('.jpg')[0] + '_aug_gray' + '.jpg'\n",
    "            cv2.imwrite('.....' + filename, img)\n",
    "                    \n",
    "            \n",
    "\n",
    "# 이미지가 저장된 디렉토리 경로\n",
    "directory_path = '.....'\n",
    "\n",
    "make_gray_images(directory_path)"
   ]
  },
  {
   "cell_type": "code",
   "execution_count": 1,
   "metadata": {},
   "outputs": [],
   "source": [
    "DATA_PATH = '...' # 원본 이미지 경로\n",
    "GRAY_PATH = '...' # 회색조 이미지 저장 경로"
   ]
  },
  {
   "cell_type": "code",
   "execution_count": 5,
   "metadata": {},
   "outputs": [
    {
     "name": "stderr",
     "output_type": "stream",
     "text": [
      "100%|██████████| 10658/10658 [00:19<00:00, 533.82it/s]\n"
     ]
    }
   ],
   "source": [
    "# 원본 그레이 파일 만들기\n",
    "for file in tqdm(os.listdir(DATA_PATH + 'labels/')):\n",
    "    if file.endswith('.txt') and 'aug' not in file:\n",
    "       aug_file = file.split('.txt')[0] + '_aug_gray.txt'\n",
    "       shutil.copy('원본 경로', '이동 경로')"
   ]
  },
  {
   "attachments": {},
   "cell_type": "markdown",
   "metadata": {},
   "source": [
    "# 2. 2차 샘플링\n",
    "- 데이터셋의 크기가 매우 커서 학습 속도 및 업로드 속도가 매우 느린 문제 발생\n",
    "- 데이터셋의 크기를 줄이는 시도\n",
    "- 학습 데이터: 약 3,000개\n",
    "- 검증 데이터: 약 800개"
   ]
  },
  {
   "cell_type": "code",
   "execution_count": 24,
   "metadata": {},
   "outputs": [
    {
     "data": {
      "text/html": [
       "<div>\n",
       "<style scoped>\n",
       "    .dataframe tbody tr th:only-of-type {\n",
       "        vertical-align: middle;\n",
       "    }\n",
       "\n",
       "    .dataframe tbody tr th {\n",
       "        vertical-align: top;\n",
       "    }\n",
       "\n",
       "    .dataframe thead th {\n",
       "        text-align: right;\n",
       "    }\n",
       "</style>\n",
       "<table border=\"1\" class=\"dataframe\">\n",
       "  <thead>\n",
       "    <tr style=\"text-align: right;\">\n",
       "      <th></th>\n",
       "      <th>code</th>\n",
       "      <th>name</th>\n",
       "      <th>type</th>\n",
       "      <th>pm별 위반 유형</th>\n",
       "      <th>PM</th>\n",
       "      <th>label_name</th>\n",
       "      <th>위반 유형</th>\n",
       "    </tr>\n",
       "  </thead>\n",
       "  <tbody>\n",
       "    <tr>\n",
       "      <th>0</th>\n",
       "      <td>22</td>\n",
       "      <td>S002501_032_0126_C_D_F_0.jpg</td>\n",
       "      <td>위반</td>\n",
       "      <td>자전거 탑승자_보행자도로 통행 위반</td>\n",
       "      <td>자전거</td>\n",
       "      <td>S002501_032_0126_C_D_F_0.json</td>\n",
       "      <td>보행자도로 통행 위반</td>\n",
       "    </tr>\n",
       "    <tr>\n",
       "      <th>1</th>\n",
       "      <td>18</td>\n",
       "      <td>S000574_063_0480_C_D_F_0.jpg</td>\n",
       "      <td>위반</td>\n",
       "      <td>오토바이 탑승자_정지선 위반</td>\n",
       "      <td>오토바이</td>\n",
       "      <td>S000574_063_0480_C_D_F_0.json</td>\n",
       "      <td>정지선 위반</td>\n",
       "    </tr>\n",
       "    <tr>\n",
       "      <th>2</th>\n",
       "      <td>17</td>\n",
       "      <td>C000890_000_0198_C_D_F_0.jpg</td>\n",
       "      <td>위반</td>\n",
       "      <td>오토바이 탑승자_신호 위반</td>\n",
       "      <td>오토바이</td>\n",
       "      <td>C000890_000_0198_C_D_F_0.json</td>\n",
       "      <td>신호 위반</td>\n",
       "    </tr>\n",
       "    <tr>\n",
       "      <th>3</th>\n",
       "      <td>13</td>\n",
       "      <td>S000506_004_0048_C_D_F_0.jpg</td>\n",
       "      <td>정상</td>\n",
       "      <td>오토바이 탑승자</td>\n",
       "      <td>오토바이</td>\n",
       "      <td>S000506_004_0048_C_D_F_0.json</td>\n",
       "      <td>정상</td>\n",
       "    </tr>\n",
       "    <tr>\n",
       "      <th>4</th>\n",
       "      <td>23</td>\n",
       "      <td>S000801_033_0036_C_D_F_0.jpg</td>\n",
       "      <td>위반</td>\n",
       "      <td>자전거 탑승자_안전모 미착용 위반</td>\n",
       "      <td>자전거</td>\n",
       "      <td>S000801_033_0036_C_D_F_0.json</td>\n",
       "      <td>안전모 미착용 위반</td>\n",
       "    </tr>\n",
       "  </tbody>\n",
       "</table>\n",
       "</div>"
      ],
      "text/plain": [
       "   code                          name type            pm별 위반 유형    PM  \\\n",
       "0    22  S002501_032_0126_C_D_F_0.jpg   위반  자전거 탑승자_보행자도로 통행 위반   자전거   \n",
       "1    18  S000574_063_0480_C_D_F_0.jpg   위반      오토바이 탑승자_정지선 위반  오토바이   \n",
       "2    17  C000890_000_0198_C_D_F_0.jpg   위반       오토바이 탑승자_신호 위반  오토바이   \n",
       "3    13  S000506_004_0048_C_D_F_0.jpg   정상             오토바이 탑승자  오토바이   \n",
       "4    23  S000801_033_0036_C_D_F_0.jpg   위반   자전거 탑승자_안전모 미착용 위반   자전거   \n",
       "\n",
       "                      label_name        위반 유형  \n",
       "0  S002501_032_0126_C_D_F_0.json  보행자도로 통행 위반  \n",
       "1  S000574_063_0480_C_D_F_0.json       정지선 위반  \n",
       "2  C000890_000_0198_C_D_F_0.json        신호 위반  \n",
       "3  S000506_004_0048_C_D_F_0.json           정상  \n",
       "4  S000801_033_0036_C_D_F_0.json   안전모 미착용 위반  "
      ]
     },
     "metadata": {},
     "output_type": "display_data"
    },
    {
     "name": "stdout",
     "output_type": "stream",
     "text": [
      "(10658, 7) (2665, 7)\n"
     ]
    }
   ],
   "source": [
    "import pandas as pd\n",
    "df1 = pd.read_csv('/.../sample_train_file.csv') # 1차 학습 샘플링 데이터\n",
    "df2 = pd.read_csv('/.../sample_val_file.csv') # 1차 검증 샘플링 데이터\n",
    "display(df1.head())\n",
    "print(df1.shape, df2.shape)"
   ]
  },
  {
   "cell_type": "code",
   "execution_count": 8,
   "metadata": {},
   "outputs": [
    {
     "data": {
      "text/html": [
       "<div>\n",
       "<style scoped>\n",
       "    .dataframe tbody tr th:only-of-type {\n",
       "        vertical-align: middle;\n",
       "    }\n",
       "\n",
       "    .dataframe tbody tr th {\n",
       "        vertical-align: top;\n",
       "    }\n",
       "\n",
       "    .dataframe thead th {\n",
       "        text-align: right;\n",
       "    }\n",
       "</style>\n",
       "<table border=\"1\" class=\"dataframe\">\n",
       "  <thead>\n",
       "    <tr style=\"text-align: right;\">\n",
       "      <th></th>\n",
       "      <th>code</th>\n",
       "      <th>name</th>\n",
       "      <th>type</th>\n",
       "      <th>pm별 위반 유형</th>\n",
       "      <th>PM</th>\n",
       "      <th>label_name</th>\n",
       "      <th>위반 유형</th>\n",
       "    </tr>\n",
       "  </thead>\n",
       "  <tbody>\n",
       "    <tr>\n",
       "      <th>0</th>\n",
       "      <td>19</td>\n",
       "      <td>S001167_009_0080_C_D_F_0.jpg</td>\n",
       "      <td>위반</td>\n",
       "      <td>오토바이 탑승자_횡단보도 주행 위반</td>\n",
       "      <td>오토바이</td>\n",
       "      <td>S001167_009_0080_C_D_F_0.json</td>\n",
       "      <td>횡단보도 주행 위반</td>\n",
       "    </tr>\n",
       "    <tr>\n",
       "      <th>1</th>\n",
       "      <td>13</td>\n",
       "      <td>S000476_023_0196_C_N_F_0.jpg</td>\n",
       "      <td>정상</td>\n",
       "      <td>오토바이 탑승자</td>\n",
       "      <td>오토바이</td>\n",
       "      <td>S000476_023_0196_C_N_F_0.json</td>\n",
       "      <td>정상</td>\n",
       "    </tr>\n",
       "    <tr>\n",
       "      <th>2</th>\n",
       "      <td>33</td>\n",
       "      <td>F000057_000_7935_C_D_F_1.jpg</td>\n",
       "      <td>위반</td>\n",
       "      <td>킥보드 탑승자_신호 위반</td>\n",
       "      <td>킥보드</td>\n",
       "      <td>F000057_000_7935_C_D_F_1.json</td>\n",
       "      <td>신호 위반</td>\n",
       "    </tr>\n",
       "    <tr>\n",
       "      <th>3</th>\n",
       "      <td>20</td>\n",
       "      <td>S001242_087_0064_C_D_F_0.jpg</td>\n",
       "      <td>정상</td>\n",
       "      <td>자전거 탑승자</td>\n",
       "      <td>자전거</td>\n",
       "      <td>S001242_087_0064_C_D_F_0.json</td>\n",
       "      <td>정상</td>\n",
       "    </tr>\n",
       "    <tr>\n",
       "      <th>4</th>\n",
       "      <td>13</td>\n",
       "      <td>S001062_000_0432_C_D_F_0.jpg</td>\n",
       "      <td>정상</td>\n",
       "      <td>오토바이 탑승자</td>\n",
       "      <td>오토바이</td>\n",
       "      <td>S001062_000_0432_C_D_F_0.json</td>\n",
       "      <td>정상</td>\n",
       "    </tr>\n",
       "  </tbody>\n",
       "</table>\n",
       "</div>"
      ],
      "text/plain": [
       "   code                          name type            pm별 위반 유형    PM  \\\n",
       "0    19  S001167_009_0080_C_D_F_0.jpg   위반  오토바이 탑승자_횡단보도 주행 위반  오토바이   \n",
       "1    13  S000476_023_0196_C_N_F_0.jpg   정상             오토바이 탑승자  오토바이   \n",
       "2    33  F000057_000_7935_C_D_F_1.jpg   위반        킥보드 탑승자_신호 위반   킥보드   \n",
       "3    20  S001242_087_0064_C_D_F_0.jpg   정상              자전거 탑승자   자전거   \n",
       "4    13  S001062_000_0432_C_D_F_0.jpg   정상             오토바이 탑승자  오토바이   \n",
       "\n",
       "                      label_name       위반 유형  \n",
       "0  S001167_009_0080_C_D_F_0.json  횡단보도 주행 위반  \n",
       "1  S000476_023_0196_C_N_F_0.json          정상  \n",
       "2  F000057_000_7935_C_D_F_1.json       신호 위반  \n",
       "3  S001242_087_0064_C_D_F_0.json          정상  \n",
       "4  S001062_000_0432_C_D_F_0.json          정상  "
      ]
     },
     "metadata": {},
     "output_type": "display_data"
    },
    {
     "name": "stdout",
     "output_type": "stream",
     "text": [
      "(3198, 7)\n"
     ]
    }
   ],
   "source": [
    "# 위반 유형 비율에 따라 학습 데이터 재분류\n",
    "from sklearn.model_selection import train_test_split\n",
    "tr_s1, tr_s2, y1, y2 = train_test_split(df1.drop(['위반 유형'], axis = 1), df1['위반 유형'], test_size=0.3, stratify=df1['위반 유형'], random_state=42)\n",
    "tr_sample = pd.concat([tr_s2, y2], axis = 1).reset_index(drop = True)\n",
    "display(tr_sample.head())\n",
    "print(tr_sample.shape)\n"
   ]
  },
  {
   "cell_type": "code",
   "execution_count": 19,
   "metadata": {},
   "outputs": [
    {
     "data": {
      "text/html": [
       "<div>\n",
       "<style scoped>\n",
       "    .dataframe tbody tr th:only-of-type {\n",
       "        vertical-align: middle;\n",
       "    }\n",
       "\n",
       "    .dataframe tbody tr th {\n",
       "        vertical-align: top;\n",
       "    }\n",
       "\n",
       "    .dataframe thead th {\n",
       "        text-align: right;\n",
       "    }\n",
       "</style>\n",
       "<table border=\"1\" class=\"dataframe\">\n",
       "  <thead>\n",
       "    <tr style=\"text-align: right;\">\n",
       "      <th></th>\n",
       "      <th>code</th>\n",
       "      <th>name</th>\n",
       "      <th>type</th>\n",
       "      <th>pm별 위반 유형</th>\n",
       "      <th>PM</th>\n",
       "      <th>label_name</th>\n",
       "      <th>위반 유형</th>\n",
       "    </tr>\n",
       "  </thead>\n",
       "  <tbody>\n",
       "    <tr>\n",
       "      <th>0</th>\n",
       "      <td>30</td>\n",
       "      <td>T012478_000_0360_C_D_F_1.jpg</td>\n",
       "      <td>위반</td>\n",
       "      <td>킥보드 탑승자_보행자도로 통행 위반</td>\n",
       "      <td>킥보드</td>\n",
       "      <td>T012478_000_0360_C_D_F_1.json</td>\n",
       "      <td>보행자도로 통행 위반</td>\n",
       "    </tr>\n",
       "    <tr>\n",
       "      <th>1</th>\n",
       "      <td>36</td>\n",
       "      <td>F000038_000_0200_C_D_F_1.jpg</td>\n",
       "      <td>위반</td>\n",
       "      <td>킥보드 탑승자_동승자 탑승 위반</td>\n",
       "      <td>킥보드</td>\n",
       "      <td>F000038_000_0200_C_D_F_1.json</td>\n",
       "      <td>동승자 탑승 위반</td>\n",
       "    </tr>\n",
       "    <tr>\n",
       "      <th>2</th>\n",
       "      <td>30</td>\n",
       "      <td>T015205_026_0240_B_D_F_1.jpg</td>\n",
       "      <td>위반</td>\n",
       "      <td>킥보드 탑승자_보행자도로 통행 위반</td>\n",
       "      <td>킥보드</td>\n",
       "      <td>T015205_026_0240_B_D_F_1.json</td>\n",
       "      <td>보행자도로 통행 위반</td>\n",
       "    </tr>\n",
       "    <tr>\n",
       "      <th>3</th>\n",
       "      <td>25</td>\n",
       "      <td>T011772_000_0510_C_D_F_1.jpg</td>\n",
       "      <td>위반</td>\n",
       "      <td>자전거 탑승자_신호 위반</td>\n",
       "      <td>자전거</td>\n",
       "      <td>T011772_000_0510_C_D_F_1.json</td>\n",
       "      <td>신호 위반</td>\n",
       "    </tr>\n",
       "    <tr>\n",
       "      <th>4</th>\n",
       "      <td>13</td>\n",
       "      <td>S000523_005_0252_C_N_F_0.jpg</td>\n",
       "      <td>정상</td>\n",
       "      <td>오토바이 탑승자</td>\n",
       "      <td>오토바이</td>\n",
       "      <td>S000523_005_0252_C_N_F_0.json</td>\n",
       "      <td>정상</td>\n",
       "    </tr>\n",
       "  </tbody>\n",
       "</table>\n",
       "</div>"
      ],
      "text/plain": [
       "   code                          name type            pm별 위반 유형    PM  \\\n",
       "0    30  T012478_000_0360_C_D_F_1.jpg   위반  킥보드 탑승자_보행자도로 통행 위반   킥보드   \n",
       "1    36  F000038_000_0200_C_D_F_1.jpg   위반    킥보드 탑승자_동승자 탑승 위반   킥보드   \n",
       "2    30  T015205_026_0240_B_D_F_1.jpg   위반  킥보드 탑승자_보행자도로 통행 위반   킥보드   \n",
       "3    25  T011772_000_0510_C_D_F_1.jpg   위반        자전거 탑승자_신호 위반   자전거   \n",
       "4    13  S000523_005_0252_C_N_F_0.jpg   정상             오토바이 탑승자  오토바이   \n",
       "\n",
       "                      label_name        위반 유형  \n",
       "0  T012478_000_0360_C_D_F_1.json  보행자도로 통행 위반  \n",
       "1  F000038_000_0200_C_D_F_1.json    동승자 탑승 위반  \n",
       "2  T015205_026_0240_B_D_F_1.json  보행자도로 통행 위반  \n",
       "3  T011772_000_0510_C_D_F_1.json        신호 위반  \n",
       "4  S000523_005_0252_C_N_F_0.json           정상  "
      ]
     },
     "metadata": {},
     "output_type": "display_data"
    },
    {
     "name": "stdout",
     "output_type": "stream",
     "text": [
      "(800, 7)\n"
     ]
    }
   ],
   "source": [
    "# 위반 유형 비율에 따라 검증 데이터 재분류\n",
    "val_s1, val_s2, val_y1, val_y2 = train_test_split(df2.drop(['위반 유형'], axis = 1), df2['위반 유형'], test_size=0.3, stratify=df2['위반 유형'], random_state=42)\n",
    "val_sample = pd.concat([val_s2, val_y2], axis = 1).reset_index(drop = True)\n",
    "display(val_sample.head())\n",
    "print(val_sample.shape)"
   ]
  },
  {
   "cell_type": "code",
   "execution_count": 20,
   "metadata": {},
   "outputs": [
    {
     "data": {
      "text/plain": [
       "자전거     0.412445\n",
       "오토바이    0.387117\n",
       "킥보드     0.200438\n",
       "Name: PM, dtype: float64"
      ]
     },
     "metadata": {},
     "output_type": "display_data"
    },
    {
     "data": {
      "text/plain": [
       "정상             0.275485\n",
       "보행자도로 통행 위반    0.173546\n",
       "안전모 미착용 위반     0.142902\n",
       "신호 위반          0.119137\n",
       "횡단보도 주행 위반     0.115385\n",
       "정지선 위반         0.102251\n",
       "무단횡단 위반        0.050969\n",
       "동승자 탑승 위반      0.020325\n",
       "Name: 위반 유형, dtype: float64"
      ]
     },
     "metadata": {},
     "output_type": "display_data"
    },
    {
     "data": {
      "text/plain": [
       "위반    0.724515\n",
       "정상    0.275485\n",
       "Name: type, dtype: float64"
      ]
     },
     "metadata": {},
     "output_type": "display_data"
    }
   ],
   "source": [
    "# 재분류 후 학습 데이터 컬럼별 비율\n",
    "display(tr_sample['PM'].value_counts(normalize=True))\n",
    "display(tr_sample['위반 유형'].value_counts(normalize=True))\n",
    "display(tr_sample['type'].value_counts(normalize=True))"
   ]
  },
  {
   "cell_type": "code",
   "execution_count": 21,
   "metadata": {},
   "outputs": [
    {
     "data": {
      "text/plain": [
       "오토바이    0.39625\n",
       "자전거     0.38875\n",
       "킥보드     0.21500\n",
       "Name: PM, dtype: float64"
      ]
     },
     "metadata": {},
     "output_type": "display_data"
    },
    {
     "data": {
      "text/plain": [
       "정상             0.27625\n",
       "보행자도로 통행 위반    0.17375\n",
       "안전모 미착용 위반     0.14250\n",
       "신호 위반          0.11875\n",
       "횡단보도 주행 위반     0.11500\n",
       "정지선 위반         0.10250\n",
       "무단횡단 위반        0.05125\n",
       "동승자 탑승 위반      0.02000\n",
       "Name: 위반 유형, dtype: float64"
      ]
     },
     "metadata": {},
     "output_type": "display_data"
    },
    {
     "data": {
      "text/plain": [
       "위반    0.72375\n",
       "정상    0.27625\n",
       "Name: type, dtype: float64"
      ]
     },
     "metadata": {},
     "output_type": "display_data"
    }
   ],
   "source": [
    "# 재분류 후 검증 데이터 컬럼별 비율\n",
    "display(val_sample['PM'].value_counts(normalize=True))\n",
    "display(val_sample['위반 유형'].value_counts(normalize=True))\n",
    "display(val_sample['type'].value_counts(normalize=True))"
   ]
  },
  {
   "cell_type": "code",
   "execution_count": 22,
   "metadata": {},
   "outputs": [],
   "source": [
    "tr_sample.to_csv('...csv', index = False)\n",
    "val_sample.to_csv('...csv', index = False)"
   ]
  },
  {
   "attachments": {},
   "cell_type": "markdown",
   "metadata": {},
   "source": [
    "##### 2차 샘플링 된 데이터로 학습 속도를 높이고 에포크 수를 늘려서 깊게 학습해본다."
   ]
  }
 ],
 "metadata": {
  "kernelspec": {
   "display_name": "mobility",
   "language": "python",
   "name": "python3"
  },
  "language_info": {
   "codemirror_mode": {
    "name": "ipython",
    "version": 3
   },
   "file_extension": ".py",
   "mimetype": "text/x-python",
   "name": "python",
   "nbconvert_exporter": "python",
   "pygments_lexer": "ipython3",
   "version": "3.8.0"
  },
  "orig_nbformat": 4
 },
 "nbformat": 4,
 "nbformat_minor": 2
}
